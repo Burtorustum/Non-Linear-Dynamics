{
 "cells": [
  {
   "cell_type": "markdown",
   "metadata": {},
   "source": [
    "# Mandelbrot Set"
   ]
  },
  {
   "cell_type": "code",
   "execution_count": 6,
   "metadata": {
    "collapsed": true
   },
   "outputs": [],
   "source": [
    "%matplotlib inline\n",
    "from graphics import *\n",
    "from nld_graphics import *\n",
    "import numpy as np\n",
    "import time as time\n",
    "import matplotlib.pyplot as plt"
   ]
  },
  {
   "cell_type": "code",
   "execution_count": 7,
   "metadata": {
    "collapsed": true
   },
   "outputs": [],
   "source": [
    "class MandelbrotSet:\n",
    "\n",
    "    def __init__ (self, pixelWidth, pixelHeight):\n",
    "        self.window = NLDGraphWin(\"Complex Plane\", pixelWidth, pixelHeight, [-2,-2,2,2])\n",
    "        self.window.close()\n",
    "\n",
    "    def numPlotSet(self, maxIterates=100):\n",
    "        self.yPoints = np.linspace(-1.4, 1.4, self.window.height)\n",
    "        self.xPoints = np.linspace(-2.1, 0.8, self.window.width)\n",
    "\n",
    "        y, x = np.ogrid[-1.4:1.4:self.window.height*1j, -2.1:0.8:self.window.width*1j]\n",
    "        c = x + y*1j\n",
    "        z = c\n",
    "        divergeIter = maxIterates + np.zeros(z.shape, dtype=int)\n",
    "\n",
    "        for i in range(maxIterates):\n",
    "            z = z**2 + c\n",
    "            diverge = abs(z) > 2\n",
    "            divergingNow = diverge & (divergeIter == maxIterates)\n",
    "            divergeIter[divergingNow] = i\n",
    "            z[diverge] = 2\n",
    "\n",
    "        return divergeIter\n",
    "\n",
    "    def regPlotSet(self, maxIterates=100):\n",
    "        None"
   ]
  },
  {
   "cell_type": "code",
   "execution_count": null,
   "metadata": {},
   "outputs": [],
   "source": [
    "m = MandelbrotSet(3200, 3200)\n",
    "numoutput = m.numPlotSet()\n",
    "plt.imshow(numoutput)"
   ]
  },
  {
   "cell_type": "code",
   "execution_count": null,
   "metadata": {
    "collapsed": true
   },
   "outputs": [],
   "source": []
  }
 ],
 "metadata": {
  "kernelspec": {
   "display_name": "Python 3",
   "language": "python",
   "name": "python3"
  },
  "language_info": {
   "codemirror_mode": {
    "name": "ipython",
    "version": 3
   },
   "file_extension": ".py",
   "mimetype": "text/x-python",
   "name": "python",
   "nbconvert_exporter": "python",
   "pygments_lexer": "ipython3",
   "version": "3.6.4"
  }
 },
 "nbformat": 4,
 "nbformat_minor": 2
}
