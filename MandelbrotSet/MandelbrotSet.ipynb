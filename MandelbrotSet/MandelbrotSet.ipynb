{
 "cells": [
  {
   "cell_type": "markdown",
   "metadata": {},
   "source": [
    "# Mandelbrot Set"
   ]
  },
  {
   "cell_type": "markdown",
   "metadata": {},
   "source": [
    "Import statements & inline magic function"
   ]
  },
  {
   "cell_type": "code",
   "execution_count": null,
   "metadata": {
    "collapsed": true
   },
   "outputs": [],
   "source": [
    "%matplotlib inline\n",
    "from graphics import *\n",
    "from nld_graphics import *\n",
    "import numpy as np\n",
    "import time as time\n",
    "import matplotlib.pyplot as plt"
   ]
  },
  {
   "cell_type": "markdown",
   "metadata": {},
   "source": [
    "Definition of the MandelbrotSet class which will hold our functions for generating the set. "
   ]
  },
  {
   "cell_type": "code",
   "execution_count": null,
   "metadata": {
    "collapsed": true
   },
   "outputs": [],
   "source": [
    "class MandelbrotSet:\n",
    "    def __init__ (self, pixelWidth, pixelHeight):\n",
    "        self.window = NLDGraphWin(\"Complex Plane\", pixelWidth, pixelHeight, [-2,-2,2,2])\n",
    "        self.window.close() #So I can test Matplot without graphics constantly open\n",
    "\n",
    "    #Generates the number of iterates each point takes to diverge\n",
    "    def numPlotSet(self, maxIterates=100):\n",
    "\n",
    "        y, x = np.ogrid[-1.4:1.4:self.window.height*1j, -2.1:0.8:self.window.width*1j]\n",
    "        c = x + y*1j\n",
    "        z = c\n",
    "        divergeIter = maxIterates + np.zeros(z.shape, dtype=int)\n",
    "\n",
    "        for i in range(maxIterates):\n",
    "            z = z**2 + c\n",
    "            diverge = abs(z) > 2\n",
    "            divergingNow = diverge & (divergeIter == maxIterates)\n",
    "            divergeIter[divergingNow] = i\n",
    "            z[diverge] = 2\n",
    "\n",
    "        return divergeIter\n",
    "\n",
    "    #Generates which points diverge\n",
    "    def regPlotSet(self, maxIterates=5000, fill = False):\n",
    "        start = time.time()\n",
    "        y, x = np.ogrid[self.window.currentCoords[1]:self.window.currentCoords[3]:self.window.height*1j, self.window.currentCoords[0]:self.window.currentCoords[2]:self.window.width*1j]\n",
    "        c = x + y*1j\n",
    "        z = c\n",
    "        divergeIter = maxIterates + np.zeros(z.shape, dtype=int)\n",
    "\n",
    "        for i in range(maxIterates):\n",
    "            z = z**2 + c\n",
    "            diverge = abs(z) >= 2\n",
    "            divergingNow = diverge & (divergeIter == maxIterates)\n",
    "            divergeIter[divergingNow] = i\n",
    "            z[diverge] = 2\n",
    "\n",
    "        for i in range(len(c)):\n",
    "            for ii in range(len(c[i])):\n",
    "                z = c[i][ii]\n",
    "                it = divergeIter[i][ii]\n",
    "                if it != maxIterates:\n",
    "                    color = 255 - it * abs(10 - 3 * zoomcount)\n",
    "                    if color < 5 & fill:\n",
    "                        color = 5\n",
    "                    elif color < 5:\n",
    "                        color = 0\n",
    "                    self.window.plot(z.real, z.imag, color_rgb(color, color, color))\n",
    "                elif fill:\n",
    "                    self.window.plot(z.real, z.imag, color_rgb(0, 0, 0))\n",
    "        self.window.update()\n",
    "        print(\"runtime:\", time.time()-start)\n",
    "\n",
    "    def zoom(self, inout=\"in\"):\n",
    "        if inout == \"in\":\n",
    "            zoomcount += 1\n",
    "        else:\n",
    "            zoomcount = 0\n",
    "        self.window.zoom(inout)\n",
    "        self.regPlotSet()"
   ]
  },
  {
   "cell_type": "markdown",
   "metadata": {
    "collapsed": true
   },
   "source": [
    "## Mandelbrot set with a Matplotlib plot"
   ]
  },
  {
   "cell_type": "code",
   "execution_count": null,
   "metadata": {
    "collapsed": true
   },
   "outputs": [],
   "source": [
    "m = MandelbrotSet(3200, 3200)\n",
    "numoutput = m.numPlotSet()\n",
    "#TODO: Add colorscheme\n",
    "plt.imshow(numoutput);"
   ]
  }
 ],
 "metadata": {
  "kernelspec": {
   "display_name": "Python 3",
   "language": "python",
   "name": "python3"
  },
  "language_info": {
   "codemirror_mode": {
    "name": "ipython",
    "version": 3
   },
   "file_extension": ".py",
   "mimetype": "text/x-python",
   "name": "python",
   "nbconvert_exporter": "python",
   "pygments_lexer": "ipython3",
   "version": "3.6.4"
  }
 },
 "nbformat": 4,
 "nbformat_minor": 2
}
